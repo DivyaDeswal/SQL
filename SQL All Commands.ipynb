{
 "cells": [
  {
   "cell_type": "code",
   "execution_count": 3,
   "id": "b80442fb-19fa-48a9-b0ce-1c84315d97db",
   "metadata": {},
   "outputs": [],
   "source": [
    "# import library\n",
    "import sqlite3"
   ]
  },
  {
   "cell_type": "code",
   "execution_count": 4,
   "id": "c92964f0-39c0-4266-bc12-fc1efb729b10",
   "metadata": {},
   "outputs": [],
   "source": [
    "# connect a database\n",
    "db=sqlite3.connect(\"student.db\")"
   ]
  },
  {
   "cell_type": "code",
   "execution_count": 5,
   "id": "bea14bea-fba6-4274-844d-7c96ad196d0e",
   "metadata": {},
   "outputs": [],
   "source": [
    "cursor=db.cursor()    # cursor"
   ]
  },
  {
   "cell_type": "code",
   "execution_count": 8,
   "id": "e7d5c7b5-af2e-4799-b081-1b367410ef99",
   "metadata": {},
   "outputs": [
    {
     "data": {
      "text/plain": [
       "<sqlite3.Cursor at 0x297fae9a9c0>"
      ]
     },
     "execution_count": 8,
     "metadata": {},
     "output_type": "execute_result"
    }
   ],
   "source": [
    "cursor.execute(\"CREATE TABLE student_data2(roll_no INT PRIMARY KEY, name TEXT, total_marks INT, rank INT)\")"
   ]
  },
  {
   "cell_type": "code",
   "execution_count": 9,
   "id": "a434fd2d-b20c-46c2-9e28-a93b15128949",
   "metadata": {},
   "outputs": [
    {
     "data": {
      "text/plain": [
       "<sqlite3.Cursor at 0x297fae9a9c0>"
      ]
     },
     "execution_count": 9,
     "metadata": {},
     "output_type": "execute_result"
    }
   ],
   "source": [
    "# insert data in table \n",
    "cursor.execute(\"INSERT INTO student_data2(roll_no,name,total_marks,rank) values(21, 'rohit',400,15),(2,'ajay',350,20),(3,'aakash',420,12),(4,'akash',410,13),(5,'sahil',440,8),(6,'vipul',340,21),(7,'nikhil',400,15),(8,'abhishek',450,7),(9,'ekta',408,14),(10,'sachin',460,5),(11,'simran',330,22),(12,'nancy',400,15),(13,'ayushi',330,22),(14,'mohit',480,2),(15,'rahul',485,1),(16,'deepika',250,27),(17,'deepak',290,24),(18,'mohit',395,16),(19,'abhisheek',288,24),(20,'navdeep',435,9)\")"
   ]
  },
  {
   "cell_type": "code",
   "execution_count": 6,
   "id": "4cfd9974-285d-4142-aa62-81efe235a531",
   "metadata": {},
   "outputs": [],
   "source": [
    "#save data\n",
    "db.commit()"
   ]
  },
  {
   "cell_type": "code",
   "execution_count": 7,
   "id": "a5e74371-d65f-47d0-b48e-d83854cc741f",
   "metadata": {},
   "outputs": [
    {
     "data": {
      "text/plain": [
       "(20, 'rows inserted')"
      ]
     },
     "execution_count": 7,
     "metadata": {},
     "output_type": "execute_result"
    }
   ],
   "source": [
    "cursor.rowcount,\"rows inserted\""
   ]
  },
  {
   "cell_type": "markdown",
   "id": "363c9a43-e93c-4cdb-ab04-38787439c10d",
   "metadata": {},
   "source": [
    "# select"
   ]
  },
  {
   "cell_type": "code",
   "execution_count": 9,
   "id": "8c6ab3dd-d2c5-4e25-8013-ec605d1d1b1e",
   "metadata": {},
   "outputs": [
    {
     "data": {
      "text/plain": [
       "<sqlite3.Cursor at 0x1b5ad339240>"
      ]
     },
     "execution_count": 9,
     "metadata": {},
     "output_type": "execute_result"
    }
   ],
   "source": [
    "cursor.execute(\"SELECT * FROM student_data\")"
   ]
  },
  {
   "cell_type": "code",
   "execution_count": 10,
   "id": "fcf32965-6093-4d52-ac30-e4497c8dd642",
   "metadata": {},
   "outputs": [
    {
     "data": {
      "text/plain": [
       "[(21, 'rohit', 400, 15),\n",
       " (2, 'ajay', 350, 20),\n",
       " (3, 'aakash', 420, 12),\n",
       " (4, 'akash', 410, 13),\n",
       " (5, 'sahil', 440, 8),\n",
       " (6, 'vipul', 340, 21),\n",
       " (7, 'nikhil', 400, 15),\n",
       " (8, 'abhishek', 450, 7),\n",
       " (9, 'ekta', 408, 14),\n",
       " (10, 'sachin', 460, 5),\n",
       " (11, 'simran', 330, 22),\n",
       " (12, 'nancy', 400, 15),\n",
       " (13, 'ayushi', 330, 22),\n",
       " (14, 'mohit', 480, 2),\n",
       " (15, 'rahul', 485, 1),\n",
       " (16, 'deepika', 250, 27),\n",
       " (17, 'deepak', 290, 24),\n",
       " (18, 'mohit', 395, 16),\n",
       " (19, 'abhisheek', 288, 24),\n",
       " (20, 'navdeep', 435, 9)]"
      ]
     },
     "execution_count": 10,
     "metadata": {},
     "output_type": "execute_result"
    }
   ],
   "source": [
    "# fetch all\n",
    "cursor.fetchall()"
   ]
  },
  {
   "cell_type": "code",
   "execution_count": 11,
   "id": "83856a69-ca67-46a8-92a1-9f45ad2e932a",
   "metadata": {},
   "outputs": [
    {
     "name": "stdout",
     "output_type": "stream",
     "text": [
      "(2,)\n",
      "(3,)\n",
      "(4,)\n",
      "(5,)\n",
      "(6,)\n",
      "(7,)\n",
      "(8,)\n",
      "(9,)\n",
      "(10,)\n",
      "(11,)\n",
      "(12,)\n",
      "(13,)\n",
      "(14,)\n",
      "(15,)\n",
      "(16,)\n",
      "(17,)\n",
      "(18,)\n",
      "(19,)\n",
      "(20,)\n",
      "(21,)\n"
     ]
    }
   ],
   "source": [
    "x=cursor.execute(\"SELECT roll_no from student_data\")\n",
    "for y in x:\n",
    "    print(y)"
   ]
  },
  {
   "cell_type": "code",
   "execution_count": 12,
   "id": "44b27e1b-3ce1-43ec-8f74-06c289468591",
   "metadata": {},
   "outputs": [
    {
     "name": "stdout",
     "output_type": "stream",
     "text": [
      "[(2,), (3,), (4,), (5,), (6,), (7,), (8,), (9,), (10,), (11,), (12,), (13,), (14,), (15,), (16,), (17,), (18,), (19,), (20,), (21,)]\n"
     ]
    }
   ],
   "source": [
    "cursor.execute(\"SELECT roll_no from student_data\")\n",
    "roll_no=cursor.fetchall()\n",
    "print(roll_no)"
   ]
  },
  {
   "cell_type": "code",
   "execution_count": 13,
   "id": "7fa7a8bc-f0ec-4ac0-8b12-7bde5cfc05c4",
   "metadata": {},
   "outputs": [
    {
     "name": "stdout",
     "output_type": "stream",
     "text": [
      "('rohit',)\n",
      "('ajay',)\n",
      "('aakash',)\n",
      "('akash',)\n",
      "('sahil',)\n",
      "('vipul',)\n",
      "('nikhil',)\n",
      "('abhishek',)\n",
      "('ekta',)\n",
      "('sachin',)\n",
      "('simran',)\n",
      "('nancy',)\n",
      "('ayushi',)\n",
      "('mohit',)\n",
      "('rahul',)\n",
      "('deepika',)\n",
      "('deepak',)\n",
      "('mohit',)\n",
      "('abhisheek',)\n",
      "('navdeep',)\n"
     ]
    }
   ],
   "source": [
    "# fetch all names\n",
    "names=cursor.execute(\"SELECT name from student_data\")\n",
    "for x in names:\n",
    "    print(x)"
   ]
  },
  {
   "cell_type": "code",
   "execution_count": 15,
   "id": "f0a76a90-bd21-41a9-a294-748cf8298b7b",
   "metadata": {},
   "outputs": [
    {
     "name": "stdout",
     "output_type": "stream",
     "text": [
      "[('rohit',), ('ajay',), ('aakash',), ('akash',), ('sahil',), ('vipul',), ('nikhil',), ('abhishek',), ('ekta',), ('sachin',), ('simran',)]\n"
     ]
    }
   ],
   "source": [
    "cursor.execute(\"SELECT name from student_data\")\n",
    "names=cursor.fetchall()[:11]\n",
    "print(names)"
   ]
  },
  {
   "cell_type": "markdown",
   "id": "e4f99936-f979-4e95-8eec-8c97dc653c5b",
   "metadata": {},
   "source": [
    "# show all tables\n"
   ]
  },
  {
   "cell_type": "code",
   "execution_count": 16,
   "id": "f734f1c9-5c2e-4869-9081-6a6a82d4583b",
   "metadata": {},
   "outputs": [
    {
     "data": {
      "text/plain": [
       "[('student_data',)]"
      ]
     },
     "execution_count": 16,
     "metadata": {},
     "output_type": "execute_result"
    }
   ],
   "source": [
    "cursor.execute(\"SELECT name FROM sqlite_master WHERE type='table'\")\n",
    "tables = cursor.fetchall()\n",
    "tables"
   ]
  },
  {
   "cell_type": "markdown",
   "id": "564b0352-6a3d-469c-8692-980e7fb31725",
   "metadata": {},
   "source": [
    "# show column present in tables"
   ]
  },
  {
   "cell_type": "code",
   "execution_count": 17,
   "id": "09242edc-6ca9-47b9-8860-14312bb9e8e5",
   "metadata": {},
   "outputs": [
    {
     "data": {
      "text/plain": [
       "[(0, 'roll_no', 'INT', 0, None, 1),\n",
       " (1, 'name', 'TEXT', 0, None, 0),\n",
       " (2, 'total_marks', 'INT', 0, None, 0),\n",
       " (3, 'rank', 'INT', 0, None, 0)]"
      ]
     },
     "execution_count": 17,
     "metadata": {},
     "output_type": "execute_result"
    }
   ],
   "source": [
    "cursor.execute(\"PRAGMA table_info(student_data);\")\n",
    "cursor.fetchall()"
   ]
  },
  {
   "cell_type": "markdown",
   "id": "6bd75310-db96-4ae3-a98f-4ca10e4ba40b",
   "metadata": {},
   "source": [
    "0 → This is the first column in the table. \n",
    "\n",
    "name: 'roll_no' → The column is named roll_no.\n",
    "\n",
    "type: 'INT' → The data type of this column is INT (integer).\n",
    "\n",
    "notnull: 0 → This column does not have a NOT NULL constraint. \n",
    "\n",
    "dflt_value: None → There is no default value defined for this column.\n",
    "\n",
    "pk: 1 → This column is the primary key of the table."
   ]
  },
  {
   "cell_type": "code",
   "execution_count": 19,
   "id": "46ea81b6-e6e3-4bd7-b833-715d9d96b783",
   "metadata": {},
   "outputs": [
    {
     "name": "stdout",
     "output_type": "stream",
     "text": [
      "roll_no\n",
      "name\n",
      "total_marks\n",
      "rank\n"
     ]
    }
   ],
   "source": [
    "cursor.execute(\"PRAGMA table_info(student_data)\")\n",
    "y=cursor.fetchall()\n",
    "for column in y:\n",
    "    print(column[1])"
   ]
  },
  {
   "cell_type": "markdown",
   "id": "fbd5a1cf-8163-42ae-9741-f3bef34656c3",
   "metadata": {},
   "source": [
    "# display specific columns"
   ]
  },
  {
   "cell_type": "code",
   "execution_count": 20,
   "id": "d0761bc1-1b42-4ef6-a829-8ac8e977a253",
   "metadata": {},
   "outputs": [
    {
     "data": {
      "text/plain": [
       "[('rohit', 15),\n",
       " ('ajay', 20),\n",
       " ('aakash', 12),\n",
       " ('akash', 13),\n",
       " ('sahil', 8),\n",
       " ('vipul', 21),\n",
       " ('nikhil', 15),\n",
       " ('abhishek', 7),\n",
       " ('ekta', 14),\n",
       " ('sachin', 5),\n",
       " ('simran', 22),\n",
       " ('nancy', 15),\n",
       " ('ayushi', 22),\n",
       " ('mohit', 2),\n",
       " ('rahul', 1),\n",
       " ('deepika', 27),\n",
       " ('deepak', 24),\n",
       " ('mohit', 16),\n",
       " ('abhisheek', 24),\n",
       " ('navdeep', 9)]"
      ]
     },
     "execution_count": 20,
     "metadata": {},
     "output_type": "execute_result"
    }
   ],
   "source": [
    "cursor.execute(\"SELECT name,rank from student_data\")\n",
    "cursor.fetchall()"
   ]
  },
  {
   "cell_type": "code",
   "execution_count": 21,
   "id": "2b0d82d9-ea3c-4402-abe0-5e5570872dda",
   "metadata": {},
   "outputs": [
    {
     "name": "stdout",
     "output_type": "stream",
     "text": [
      "('rohit', 15)\n",
      "('ajay', 20)\n",
      "('aakash', 12)\n",
      "('akash', 13)\n",
      "('sahil', 8)\n"
     ]
    }
   ],
   "source": [
    "cursor.execute(\"SELECT name,rank from student_data\")\n",
    "x=cursor.fetchall()\n",
    "for names in x[:5]:\n",
    "    print(names)"
   ]
  },
  {
   "cell_type": "code",
   "execution_count": 11,
   "id": "ad2efb6b-7806-4caf-b72f-5d07336923ef",
   "metadata": {},
   "outputs": [
    {
     "name": "stdout",
     "output_type": "stream",
     "text": [
      "name: rohit,    rank: 15\n",
      "name: ajay,    rank: 20\n",
      "name: aakash,    rank: 12\n",
      "name: akash,    rank: 13\n",
      "name: sahil,    rank: 8\n",
      "name: vipul,    rank: 21\n",
      "name: nikhil,    rank: 15\n",
      "name: abhishek,    rank: 7\n",
      "name: ekta,    rank: 14\n",
      "name: sachin,    rank: 5\n",
      "name: simran,    rank: 22\n",
      "name: nancy,    rank: 15\n",
      "name: ayushi,    rank: 22\n",
      "name: mohit,    rank: 2\n",
      "name: rahul,    rank: 1\n",
      "name: deepika,    rank: 27\n",
      "name: deepak,    rank: 24\n",
      "name: mohit,    rank: 16\n",
      "name: abhisheek,    rank: 24\n",
      "name: navdeep,    rank: 9\n"
     ]
    }
   ],
   "source": [
    "cursor.execute(\"SELECT name,rank from student_data1\")\n",
    "x=cursor.fetchall()\n",
    "for names in x:\n",
    "    print(f\"name: {names[0]},    rank: {names[1]}\")"
   ]
  },
  {
   "cell_type": "markdown",
   "id": "32ad540a-338e-4080-812b-4330635e21d7",
   "metadata": {},
   "source": [
    "# sorting the data"
   ]
  },
  {
   "cell_type": "code",
   "execution_count": 29,
   "id": "1438c227-1d5a-4276-8af1-a6866c047da8",
   "metadata": {},
   "outputs": [
    {
     "data": {
      "text/plain": [
       "[(15, 'rahul', 485, 1),\n",
       " (14, 'mohit', 480, 2),\n",
       " (10, 'sachin', 460, 5),\n",
       " (8, 'abhishek', 450, 7),\n",
       " (5, 'sahil', 440, 8)]"
      ]
     },
     "execution_count": 29,
     "metadata": {},
     "output_type": "execute_result"
    }
   ],
   "source": [
    "cursor.execute(\"SELECT * from student_data ORDER BY rank ASC\")\n",
    "cursor.fetchall()[:5]"
   ]
  },
  {
   "cell_type": "code",
   "execution_count": 30,
   "id": "c336a081-31f0-4fcc-baa0-f48a88d38dd5",
   "metadata": {},
   "outputs": [
    {
     "data": {
      "text/plain": [
       "[(16, 'deepika', 250, 27),\n",
       " (17, 'deepak', 290, 24),\n",
       " (19, 'abhisheek', 288, 24),\n",
       " (11, 'simran', 330, 22),\n",
       " (13, 'ayushi', 330, 22),\n",
       " (6, 'vipul', 340, 21),\n",
       " (2, 'ajay', 350, 20),\n",
       " (18, 'mohit', 395, 16),\n",
       " (21, 'rohit', 400, 15),\n",
       " (7, 'nikhil', 400, 15),\n",
       " (12, 'nancy', 400, 15),\n",
       " (9, 'ekta', 408, 14),\n",
       " (4, 'akash', 410, 13),\n",
       " (3, 'aakash', 420, 12),\n",
       " (20, 'navdeep', 435, 9),\n",
       " (5, 'sahil', 440, 8),\n",
       " (8, 'abhishek', 450, 7),\n",
       " (10, 'sachin', 460, 5),\n",
       " (14, 'mohit', 480, 2),\n",
       " (15, 'rahul', 485, 1)]"
      ]
     },
     "execution_count": 30,
     "metadata": {},
     "output_type": "execute_result"
    }
   ],
   "source": [
    "cursor.execute(\"SELECT * from student_data ORDER BY rank DESC\")\n",
    "cursor.fetchall()"
   ]
  },
  {
   "cell_type": "code",
   "execution_count": 31,
   "id": "68b47348-29b0-4394-b9b3-78b31f00aae0",
   "metadata": {},
   "outputs": [
    {
     "data": {
      "text/plain": [
       "[('aakash', 420),\n",
       " ('abhisheek', 288),\n",
       " ('abhishek', 450),\n",
       " ('ajay', 350),\n",
       " ('akash', 410),\n",
       " ('ayushi', 330),\n",
       " ('deepak', 290),\n",
       " ('deepika', 250),\n",
       " ('ekta', 408),\n",
       " ('mohit', 480),\n",
       " ('mohit', 395),\n",
       " ('nancy', 400),\n",
       " ('navdeep', 435),\n",
       " ('nikhil', 400),\n",
       " ('rahul', 485),\n",
       " ('rohit', 400),\n",
       " ('sachin', 460),\n",
       " ('sahil', 440),\n",
       " ('simran', 330),\n",
       " ('vipul', 340)]"
      ]
     },
     "execution_count": 31,
     "metadata": {},
     "output_type": "execute_result"
    }
   ],
   "source": [
    "cursor.execute(\"SELECT name,total_marks from student_data ORDER BY name ASC\")\n",
    "cursor.fetchall()"
   ]
  },
  {
   "cell_type": "markdown",
   "id": "2d087ee5-b3a8-411e-9cd1-fb2dddc23c7f",
   "metadata": {},
   "source": [
    "# where method"
   ]
  },
  {
   "cell_type": "code",
   "execution_count": 33,
   "id": "849eacae-b281-4c2a-860e-30ca772cafb9",
   "metadata": {},
   "outputs": [
    {
     "data": {
      "text/plain": [
       "[]"
      ]
     },
     "execution_count": 33,
     "metadata": {},
     "output_type": "execute_result"
    }
   ],
   "source": [
    "cursor.execute(\"SELECT * from student_data where name='sunny'\")\n",
    "cursor.fetchall()"
   ]
  },
  {
   "cell_type": "code",
   "execution_count": 35,
   "id": "277f4341-a52c-491e-b88f-6052bfac0650",
   "metadata": {},
   "outputs": [
    {
     "data": {
      "text/plain": [
       "[(10, 'sachin', 460, 5), (14, 'mohit', 480, 2), (15, 'rahul', 485, 1)]"
      ]
     },
     "execution_count": 35,
     "metadata": {},
     "output_type": "execute_result"
    }
   ],
   "source": [
    "cursor.execute(\"SELECT * from student_data where rank Between 1 and 5\")\n",
    "cursor.fetchall()"
   ]
  },
  {
   "cell_type": "code",
   "execution_count": 36,
   "id": "b91a6130-b9b5-48e6-ab91-47f70de26750",
   "metadata": {},
   "outputs": [
    {
     "data": {
      "text/plain": [
       "(2, 'ajay', 350, 20)"
      ]
     },
     "execution_count": 36,
     "metadata": {},
     "output_type": "execute_result"
    }
   ],
   "source": [
    "cursor.execute(\"SELECT * from student_data where rank >10\")\n",
    "cursor.fetchall()[1]"
   ]
  },
  {
   "cell_type": "code",
   "execution_count": 12,
   "id": "19592ebf-a5ae-4b4f-b69b-effbe7a0dfb1",
   "metadata": {},
   "outputs": [
    {
     "data": {
      "text/plain": [
       "[('rahul', 1)]"
      ]
     },
     "execution_count": 12,
     "metadata": {},
     "output_type": "execute_result"
    }
   ],
   "source": [
    "cursor.execute(\"SELECT name,rank from student_data where name='rahul'\")\n",
    "cursor.fetchall()"
   ]
  },
  {
   "cell_type": "code",
   "execution_count": 13,
   "id": "faec0f8a-8ad9-4bc6-bed7-7cd8a0f03e69",
   "metadata": {},
   "outputs": [
    {
     "data": {
      "text/plain": [
       "[(3, 'aakash', 420, 12),\n",
       " (4, 'akash', 410, 13),\n",
       " (5, 'sahil', 440, 8),\n",
       " (8, 'abhishek', 450, 7),\n",
       " (9, 'ekta', 408, 14),\n",
       " (20, 'navdeep', 435, 9)]"
      ]
     },
     "execution_count": 13,
     "metadata": {},
     "output_type": "execute_result"
    }
   ],
   "source": [
    "cursor.execute(\"SELECT * from student_data where rank >5 and rank<15\")\n",
    "cursor.fetchall()"
   ]
  },
  {
   "cell_type": "code",
   "execution_count": 14,
   "id": "585e74db-fdfa-4f13-b945-a1a1618bf749",
   "metadata": {},
   "outputs": [
    {
     "data": {
      "text/plain": [
       "[(2, 'ajay', 350, 20), (5, 'sahil', 440, 8), (15, 'rahul', 485, 1)]"
      ]
     },
     "execution_count": 14,
     "metadata": {},
     "output_type": "execute_result"
    }
   ],
   "source": [
    "cursor.execute(\"SELECT * from student_data where name IN ('sahil','rahul','ajay')\")\n",
    "cursor.fetchall()"
   ]
  },
  {
   "cell_type": "code",
   "execution_count": 16,
   "id": "e92a134f-ca4d-4958-983b-1a75bd6fec39",
   "metadata": {},
   "outputs": [
    {
     "data": {
      "text/plain": [
       "[(21, 'rohit', 400, 15),\n",
       " (3, 'aakash', 420, 12),\n",
       " (4, 'akash', 410, 13),\n",
       " (5, 'sahil', 440, 8),\n",
       " (7, 'nikhil', 400, 15),\n",
       " (8, 'abhishek', 450, 7),\n",
       " (9, 'ekta', 408, 14),\n",
       " (10, 'sachin', 460, 5),\n",
       " (11, 'simran', 330, 22),\n",
       " (12, 'nancy', 400, 15),\n",
       " (13, 'ayushi', 330, 22),\n",
       " (14, 'mohit', 480, 2),\n",
       " (16, 'deepika', 250, 27),\n",
       " (17, 'deepak', 290, 24),\n",
       " (18, 'mohit', 395, 16),\n",
       " (19, 'abhisheek', 288, 24),\n",
       " (20, 'navdeep', 435, 9)]"
      ]
     },
     "execution_count": 16,
     "metadata": {},
     "output_type": "execute_result"
    }
   ],
   "source": [
    "cursor.execute(\"SELECT * FROM student_data WHERE name NOT IN ('rahul', 'ajay','vipul')\")\n",
    "cursor.fetchall()"
   ]
  },
  {
   "cell_type": "code",
   "execution_count": null,
   "id": "36e3d639-6b14-42d9-ada6-8897ad65677e",
   "metadata": {},
   "outputs": [],
   "source": [
    "# like operator \n",
    "#  % - you can select the record that start ,including or end with a given letter or phrase.. use % to represent wildcard"
   ]
  },
  {
   "cell_type": "code",
   "execution_count": 18,
   "id": "53fe2393-1940-4dbb-b1b6-3c07dc4140fb",
   "metadata": {},
   "outputs": [
    {
     "name": "stdout",
     "output_type": "stream",
     "text": [
      "(5, 'sahil', 440, 8)\n",
      "(6, 'vipul', 340, 21)\n",
      "(7, 'nikhil', 400, 15)\n",
      "(15, 'rahul', 485, 1)\n"
     ]
    }
   ],
   "source": [
    "x=cursor.execute(\"SELECT * from student_data where name LIKE '%l%'\")\n",
    "for a in x:\n",
    "    print(a)"
   ]
  },
  {
   "cell_type": "code",
   "execution_count": 19,
   "id": "f152ef8f-f0c9-4c3d-82e9-1d0e84648258",
   "metadata": {},
   "outputs": [
    {
     "name": "stdout",
     "output_type": "stream",
     "text": [
      "(5, 'sahil', 440, 8)\n",
      "(10, 'sachin', 460, 5)\n",
      "(11, 'simran', 330, 22)\n"
     ]
    }
   ],
   "source": [
    "# name starting with 's'\n",
    "x=cursor.execute(\"SELECT * from student_data where name LIKE 's%'\")\n",
    "for a in x:\n",
    "    print(a)"
   ]
  },
  {
   "cell_type": "code",
   "execution_count": 20,
   "id": "e4f656e6-9e16-41b1-91ed-265e54e9aa86",
   "metadata": {},
   "outputs": [
    {
     "name": "stdout",
     "output_type": "stream",
     "text": [
      "(5, 'sahil', 440, 8)\n"
     ]
    }
   ],
   "source": [
    "# name starting with 's' and ending with 'l'\n",
    "x=cursor.execute(\"SELECT * from student_data where name LIKE 's%l'\")\n",
    "for a in x:\n",
    "    print(a)"
   ]
  },
  {
   "cell_type": "code",
   "execution_count": 21,
   "id": "d2b3e9ac-3200-4d24-8476-4b0a45b2e4ce",
   "metadata": {},
   "outputs": [
    {
     "name": "stdout",
     "output_type": "stream",
     "text": [
      "(3, 'aakash', 420, 12)\n",
      "(5, 'sahil', 440, 8)\n",
      "(10, 'sachin', 460, 5)\n",
      "(12, 'nancy', 400, 15)\n",
      "(15, 'rahul', 485, 1)\n",
      "(20, 'navdeep', 435, 9)\n"
     ]
    }
   ],
   "source": [
    "# find data where name 2nd alphabet is 'a' and have 1 aplhabet before it \n",
    "x=cursor.execute(\"SELECT * from student_data where name LIKE '_a%'\")\n",
    "for a in x:\n",
    "    print(a)"
   ]
  },
  {
   "cell_type": "code",
   "execution_count": 22,
   "id": "75ea1955-d0dc-4a81-9ede-409dba84941b",
   "metadata": {},
   "outputs": [
    {
     "name": "stdout",
     "output_type": "stream",
     "text": [
      "(2, 'ajay', 350, 20)\n",
      "(4, 'akash', 410, 13)\n"
     ]
    }
   ],
   "source": [
    "x=cursor.execute(\"SELECT * from student_data where name LIKE '__a%'\")\n",
    "for a in x:\n",
    "    print(a)"
   ]
  },
  {
   "cell_type": "code",
   "execution_count": 23,
   "id": "4016408a-cc8a-4125-8778-aae203181e46",
   "metadata": {},
   "outputs": [
    {
     "name": "stdout",
     "output_type": "stream",
     "text": [
      "(12, 'nancy', 400, 15)\n"
     ]
    }
   ],
   "source": [
    "x=cursor.execute(\"SELECT * from student_data1 where name LIKE '__n%'\")\n",
    "for a in x:\n",
    "    print(a)"
   ]
  },
  {
   "cell_type": "code",
   "execution_count": 24,
   "id": "47239df0-4975-4530-b5b8-5f84715d18fa",
   "metadata": {},
   "outputs": [
    {
     "name": "stdout",
     "output_type": "stream",
     "text": [
      "(12, 'nancy', 400, 15)\n"
     ]
    }
   ],
   "source": [
    "x=cursor.execute(\"SELECT * from student_data where name LIKE '__n__'\")\n",
    "for a in x:\n",
    "    print(a)"
   ]
  },
  {
   "cell_type": "code",
   "execution_count": 25,
   "id": "5973ba9a-27dd-4efb-9a6d-af564b93c764",
   "metadata": {},
   "outputs": [
    {
     "data": {
      "text/plain": [
       "[(3, 'aakash', 420, 12),\n",
       " (4, 'akash', 410, 13),\n",
       " (5, 'sahil', 440, 8),\n",
       " (8, 'abhishek', 450, 7),\n",
       " (9, 'ekta', 408, 14),\n",
       " (10, 'sachin', 460, 5),\n",
       " (14, 'mohit', 480, 2),\n",
       " (15, 'rahul', 485, 1),\n",
       " (20, 'navdeep', 435, 9)]"
      ]
     },
     "execution_count": 25,
     "metadata": {},
     "output_type": "execute_result"
    }
   ],
   "source": [
    "cursor.execute(\"SELECT * FROM student_data where total_marks > 400 OR rank < 10\")\n",
    "cursor.fetchall()"
   ]
  },
  {
   "cell_type": "code",
   "execution_count": 26,
   "id": "06f84faf-1c24-4d44-94c9-7ccaefc4eef6",
   "metadata": {},
   "outputs": [
    {
     "data": {
      "text/plain": [
       "[(5, 'sahil', 440, 8),\n",
       " (8, 'abhishek', 450, 7),\n",
       " (10, 'sachin', 460, 5),\n",
       " (14, 'mohit', 480, 2),\n",
       " (15, 'rahul', 485, 1),\n",
       " (20, 'navdeep', 435, 9)]"
      ]
     },
     "execution_count": 26,
     "metadata": {},
     "output_type": "execute_result"
    }
   ],
   "source": [
    "cursor.execute(\"SELECT * FROM student_data WHERE total_marks > 400 AND rank < 10\")\n",
    "cursor.fetchall()"
   ]
  },
  {
   "cell_type": "code",
   "execution_count": 27,
   "id": "61e01acb-8072-4fc8-8c56-45f958d4da3f",
   "metadata": {},
   "outputs": [
    {
     "data": {
      "text/plain": [
       "[]"
      ]
     },
     "execution_count": 27,
     "metadata": {},
     "output_type": "execute_result"
    }
   ],
   "source": [
    "# check null values\n",
    "cursor.execute(\"SELECT * FROM student_data WHERE rank IS NULL\")\n",
    "cursor.fetchall()"
   ]
  },
  {
   "cell_type": "code",
   "execution_count": 28,
   "id": "58064321-ff32-471b-86b5-b234faed8725",
   "metadata": {},
   "outputs": [
    {
     "data": {
      "text/plain": [
       "[(21, 'rohit', 400, 15),\n",
       " (2, 'ajay', 350, 20),\n",
       " (3, 'aakash', 420, 12),\n",
       " (4, 'akash', 410, 13),\n",
       " (5, 'sahil', 440, 8),\n",
       " (6, 'vipul', 340, 21),\n",
       " (7, 'nikhil', 400, 15),\n",
       " (8, 'abhishek', 450, 7),\n",
       " (9, 'ekta', 408, 14),\n",
       " (10, 'sachin', 460, 5),\n",
       " (11, 'simran', 330, 22),\n",
       " (12, 'nancy', 400, 15),\n",
       " (13, 'ayushi', 330, 22),\n",
       " (14, 'mohit', 480, 2),\n",
       " (15, 'rahul', 485, 1),\n",
       " (16, 'deepika', 250, 27),\n",
       " (17, 'deepak', 290, 24),\n",
       " (18, 'mohit', 395, 16),\n",
       " (19, 'abhisheek', 288, 24),\n",
       " (20, 'navdeep', 435, 9)]"
      ]
     },
     "execution_count": 28,
     "metadata": {},
     "output_type": "execute_result"
    }
   ],
   "source": [
    "cursor.execute(\"SELECT * FROM student_data WHERE rank IS NOT NULL;\")\n",
    "cursor.fetchall()"
   ]
  },
  {
   "cell_type": "markdown",
   "id": "076ea47e-e871-4081-aed8-c2da222296a6",
   "metadata": {},
   "source": [
    "# subqueries"
   ]
  },
  {
   "cell_type": "code",
   "execution_count": 30,
   "id": "d2f11100-b392-4054-b6bb-ae892e94a2ad",
   "metadata": {},
   "outputs": [
    {
     "data": {
      "text/plain": [
       "[(15, 'rahul', 485, 1)]"
      ]
     },
     "execution_count": 30,
     "metadata": {},
     "output_type": "execute_result"
    }
   ],
   "source": [
    "cursor.execute(\"SELECT * FROM student_data WHERE rank = (SELECT MIN(rank) FROM student_data)\")\n",
    "cursor.fetchall()"
   ]
  },
  {
   "cell_type": "code",
   "execution_count": 34,
   "id": "9dcad43c-f429-4f8f-9a64-c616026b94db",
   "metadata": {},
   "outputs": [
    {
     "data": {
      "text/plain": [
       "[(16, 'deepika', 250, 27)]"
      ]
     },
     "execution_count": 34,
     "metadata": {},
     "output_type": "execute_result"
    }
   ],
   "source": [
    "cursor.execute(\"SELECT * FROM student_data WHERE rank = (SELECT MAX(rank) FROM student_data)\")\n",
    "cursor.fetchall()"
   ]
  },
  {
   "cell_type": "code",
   "execution_count": 35,
   "id": "86b22ae4-1874-495f-a235-bd637a792a89",
   "metadata": {},
   "outputs": [
    {
     "data": {
      "text/plain": [
       "[(16, 'deepika', 250, 27)]"
      ]
     },
     "execution_count": 35,
     "metadata": {},
     "output_type": "execute_result"
    }
   ],
   "source": [
    "cursor.execute(\"SELECT * FROM student_data WHERE total_marks = (SELECT MIN(total_marks) FROM student_data)\")\n",
    "cursor.fetchall()"
   ]
  },
  {
   "cell_type": "code",
   "execution_count": 36,
   "id": "d0f1dd1f-7584-47f2-a3f1-275e3cec12b6",
   "metadata": {},
   "outputs": [
    {
     "data": {
      "text/plain": [
       "[(27,)]"
      ]
     },
     "execution_count": 36,
     "metadata": {},
     "output_type": "execute_result"
    }
   ],
   "source": [
    "cursor.execute(\"SELECT MAX(rank) FROM student_data\")\n",
    "cursor.fetchall()"
   ]
  },
  {
   "cell_type": "markdown",
   "id": "81ce4ccf-e964-4518-9205-783c1c827bb4",
   "metadata": {},
   "source": [
    "# Update Data"
   ]
  },
  {
   "cell_type": "code",
   "execution_count": 37,
   "id": "9ab74f01-7c90-46af-a2a5-44d883192daf",
   "metadata": {},
   "outputs": [],
   "source": [
    "# change sahil rank to 10\n",
    "cursor.execute(\"UPDATE student_data SET rank=10 where name='sahil'\")\n",
    "db.commit()"
   ]
  },
  {
   "cell_type": "code",
   "execution_count": 38,
   "id": "d6d1436b-8585-4963-b6e7-a2dc671047a0",
   "metadata": {},
   "outputs": [
    {
     "data": {
      "text/plain": [
       "[(21, 'rohit', 400, 15),\n",
       " (2, 'ajay', 350, 20),\n",
       " (3, 'aakash', 420, 12),\n",
       " (4, 'akash', 410, 13),\n",
       " (5, 'sahil', 440, 10),\n",
       " (6, 'vipul', 340, 21),\n",
       " (7, 'nikhil', 400, 15),\n",
       " (8, 'abhishek', 450, 7),\n",
       " (9, 'ekta', 408, 14),\n",
       " (10, 'sachin', 460, 5),\n",
       " (11, 'simran', 330, 22),\n",
       " (12, 'nancy', 400, 15),\n",
       " (13, 'ayushi', 330, 22),\n",
       " (14, 'mohit', 480, 2),\n",
       " (15, 'rahul', 485, 1),\n",
       " (16, 'deepika', 250, 27),\n",
       " (17, 'deepak', 290, 24),\n",
       " (18, 'mohit', 395, 16),\n",
       " (19, 'abhisheek', 288, 24),\n",
       " (20, 'navdeep', 435, 9)]"
      ]
     },
     "execution_count": 38,
     "metadata": {},
     "output_type": "execute_result"
    }
   ],
   "source": [
    "cursor.execute(\"SELECT * from student_data\")\n",
    "cursor.fetchall()"
   ]
  },
  {
   "cell_type": "code",
   "execution_count": 40,
   "id": "d41fa7f3-8ae5-4468-a2f4-355cf7e783dc",
   "metadata": {},
   "outputs": [
    {
     "data": {
      "text/plain": [
       "[('rohit',),\n",
       " ('sunny',),\n",
       " ('aakash',),\n",
       " ('akash',),\n",
       " ('sahil',),\n",
       " ('sunny',),\n",
       " ('nikhil',),\n",
       " ('abhishek',),\n",
       " ('ekta',),\n",
       " ('sachin',),\n",
       " ('simran',),\n",
       " ('nancy',),\n",
       " ('ayushi',),\n",
       " ('mohit',),\n",
       " ('rahul',),\n",
       " ('deepika',),\n",
       " ('deepak',),\n",
       " ('mohit',),\n",
       " ('abhisheek',),\n",
       " ('navdeep',)]"
      ]
     },
     "execution_count": 40,
     "metadata": {},
     "output_type": "execute_result"
    }
   ],
   "source": [
    "# change name from 'vipul' to sunny\n",
    "cursor.execute(\"UPDATE student_data SET name='sunny' where name='vipul'\")\n",
    "cursor.execute(\"SELECT name from student_data\")\n",
    "cursor.fetchall()"
   ]
  },
  {
   "cell_type": "markdown",
   "id": "68ef8b35-1a01-4169-8c8d-0efa9f78f9ac",
   "metadata": {},
   "source": [
    "# order by method"
   ]
  },
  {
   "cell_type": "code",
   "execution_count": 41,
   "id": "53cd3867-257e-42ae-95b3-738721b847b2",
   "metadata": {},
   "outputs": [
    {
     "data": {
      "text/plain": [
       "[(3, 'aakash', 420, 12),\n",
       " (19, 'abhisheek', 288, 24),\n",
       " (8, 'abhishek', 450, 7),\n",
       " (4, 'akash', 410, 13),\n",
       " (13, 'ayushi', 330, 22),\n",
       " (17, 'deepak', 290, 24),\n",
       " (16, 'deepika', 250, 27),\n",
       " (9, 'ekta', 408, 14),\n",
       " (14, 'mohit', 480, 2),\n",
       " (18, 'mohit', 395, 16),\n",
       " (12, 'nancy', 400, 15),\n",
       " (20, 'navdeep', 435, 9),\n",
       " (7, 'nikhil', 400, 15),\n",
       " (15, 'rahul', 485, 1),\n",
       " (21, 'rohit', 400, 15),\n",
       " (10, 'sachin', 460, 5),\n",
       " (5, 'sahil', 440, 10),\n",
       " (11, 'simran', 330, 22),\n",
       " (2, 'sunny', 350, 20),\n",
       " (6, 'sunny', 340, 21)]"
      ]
     },
     "execution_count": 41,
     "metadata": {},
     "output_type": "execute_result"
    }
   ],
   "source": [
    "cursor.execute(\"SELECT * FROM student_data ORDER BY name\")\n",
    "cursor.fetchall()"
   ]
  },
  {
   "cell_type": "code",
   "execution_count": 42,
   "id": "954f496f-fb38-4635-ab65-58beabb19fde",
   "metadata": {},
   "outputs": [
    {
     "data": {
      "text/plain": [
       "[(21, 'rohit', 400, 15),\n",
       " (20, 'navdeep', 435, 9),\n",
       " (19, 'abhisheek', 288, 24),\n",
       " (18, 'mohit', 395, 16),\n",
       " (17, 'deepak', 290, 24),\n",
       " (16, 'deepika', 250, 27),\n",
       " (15, 'rahul', 485, 1),\n",
       " (14, 'mohit', 480, 2),\n",
       " (13, 'ayushi', 330, 22),\n",
       " (12, 'nancy', 400, 15),\n",
       " (11, 'simran', 330, 22),\n",
       " (10, 'sachin', 460, 5),\n",
       " (9, 'ekta', 408, 14),\n",
       " (8, 'abhishek', 450, 7),\n",
       " (7, 'nikhil', 400, 15),\n",
       " (6, 'sunny', 340, 21),\n",
       " (5, 'sahil', 440, 10),\n",
       " (4, 'akash', 410, 13),\n",
       " (3, 'aakash', 420, 12),\n",
       " (2, 'sunny', 350, 20)]"
      ]
     },
     "execution_count": 42,
     "metadata": {},
     "output_type": "execute_result"
    }
   ],
   "source": [
    "cursor.execute(\"select * FROM student_data ORDER BY roll_no desc\")\n",
    "cursor.fetchall()"
   ]
  },
  {
   "cell_type": "code",
   "execution_count": 43,
   "id": "85f028dc-c112-4d6d-a324-657d96980f85",
   "metadata": {},
   "outputs": [
    {
     "data": {
      "text/plain": [
       "[(2, 'sunny', 350, 20),\n",
       " (3, 'aakash', 420, 12),\n",
       " (4, 'akash', 410, 13),\n",
       " (5, 'sahil', 440, 10),\n",
       " (6, 'sunny', 340, 21),\n",
       " (7, 'nikhil', 400, 15),\n",
       " (8, 'abhishek', 450, 7),\n",
       " (9, 'ekta', 408, 14),\n",
       " (10, 'sachin', 460, 5),\n",
       " (11, 'simran', 330, 22),\n",
       " (12, 'nancy', 400, 15),\n",
       " (13, 'ayushi', 330, 22),\n",
       " (14, 'mohit', 480, 2),\n",
       " (15, 'rahul', 485, 1),\n",
       " (16, 'deepika', 250, 27),\n",
       " (17, 'deepak', 290, 24),\n",
       " (18, 'mohit', 395, 16),\n",
       " (19, 'abhisheek', 288, 24),\n",
       " (20, 'navdeep', 435, 9),\n",
       " (21, 'rohit', 400, 15)]"
      ]
     },
     "execution_count": 43,
     "metadata": {},
     "output_type": "execute_result"
    }
   ],
   "source": [
    "cursor.execute(\"select * FROM student_data ORDER BY roll_no asc\")\n",
    "cursor.fetchall()"
   ]
  },
  {
   "cell_type": "markdown",
   "id": "6a65ccb8-2725-4447-837d-4cef265bd3e9",
   "metadata": {},
   "source": [
    "# delete data"
   ]
  },
  {
   "cell_type": "code",
   "execution_count": 48,
   "id": "14baa6eb-494e-4c28-b879-4badc71787ed",
   "metadata": {},
   "outputs": [],
   "source": [
    "cursor.execute(\"DELETE FROM student_data WHERE roll_no=18\")\n",
    "db.commit()"
   ]
  },
  {
   "cell_type": "code",
   "execution_count": 49,
   "id": "f4c80eaa-12be-46b8-9df2-c671ddc3a9f6",
   "metadata": {},
   "outputs": [
    {
     "data": {
      "text/plain": [
       "1"
      ]
     },
     "execution_count": 49,
     "metadata": {},
     "output_type": "execute_result"
    }
   ],
   "source": [
    "cursor.rowcount"
   ]
  },
  {
   "cell_type": "code",
   "execution_count": 50,
   "id": "d975b56f-5294-4237-a9cf-a22bba7e34ea",
   "metadata": {},
   "outputs": [
    {
     "data": {
      "text/plain": [
       "[(21, 'rohit', 400, 15),\n",
       " (2, 'sunny', 350, 20),\n",
       " (3, 'aakash', 420, 12),\n",
       " (4, 'akash', 410, 13),\n",
       " (5, 'sahil', 440, 10),\n",
       " (6, 'sunny', 340, 21),\n",
       " (7, 'nikhil', 400, 15),\n",
       " (8, 'abhishek', 450, 7),\n",
       " (9, 'ekta', 408, 14),\n",
       " (10, 'sachin', 460, 5),\n",
       " (11, 'simran', 330, 22),\n",
       " (12, 'nancy', 400, 15),\n",
       " (13, 'ayushi', 330, 22),\n",
       " (14, 'mohit', 480, 2),\n",
       " (15, 'rahul', 485, 1),\n",
       " (17, 'deepak', 290, 24),\n",
       " (19, 'abhisheek', 288, 24),\n",
       " (20, 'navdeep', 435, 9)]"
      ]
     },
     "execution_count": 50,
     "metadata": {},
     "output_type": "execute_result"
    }
   ],
   "source": [
    "cursor.execute(\"SELECT * FROM student_data\")\n",
    "cursor.fetchall()"
   ]
  },
  {
   "cell_type": "code",
   "execution_count": 51,
   "id": "06afcc85-8f95-410d-bcf5-f682fff4c642",
   "metadata": {},
   "outputs": [
    {
     "data": {
      "text/plain": [
       "[(21, 'rohit', 400, 15),\n",
       " (2, 'sunny', 350, 20),\n",
       " (3, 'aakash', 420, 12),\n",
       " (4, 'akash', 410, 13),\n",
       " (5, 'sahil', 440, 10),\n",
       " (6, 'sunny', 340, 21),\n",
       " (7, 'nikhil', 400, 15),\n",
       " (8, 'abhishek', 450, 7),\n",
       " (9, 'ekta', 408, 14),\n",
       " (10, 'sachin', 460, 5),\n",
       " (11, 'simran', 330, 22),\n",
       " (12, 'nancy', 400, 15),\n",
       " (13, 'ayushi', 330, 22),\n",
       " (14, 'mohit', 480, 2),\n",
       " (17, 'deepak', 290, 24),\n",
       " (19, 'abhisheek', 288, 24),\n",
       " (20, 'navdeep', 435, 9)]"
      ]
     },
     "execution_count": 51,
     "metadata": {},
     "output_type": "execute_result"
    }
   ],
   "source": [
    "cursor.execute(\"DELETE FROM student_data WHERE total_marks>480 \")\n",
    "cursor.execute(\"SELECT * FROM student_data\")\n",
    "cursor.fetchall()"
   ]
  },
  {
   "cell_type": "markdown",
   "id": "b1eacf55-5855-4ebd-b998-3574e09ed50c",
   "metadata": {},
   "source": [
    "# Add a New Column to the Table"
   ]
  },
  {
   "cell_type": "code",
   "execution_count": 16,
   "id": "d6c5e483-efe1-418c-aa3b-a2fdf88ae138",
   "metadata": {},
   "outputs": [
    {
     "data": {
      "text/plain": [
       "<sqlite3.Cursor at 0x297fae9a9c0>"
      ]
     },
     "execution_count": 16,
     "metadata": {},
     "output_type": "execute_result"
    }
   ],
   "source": [
    "cursor.execute(\"ALTER TABLE student_data2 ADD COLUMN class_section TEXT\")"
   ]
  },
  {
   "cell_type": "code",
   "execution_count": 17,
   "id": "0dae0132-dfad-40b6-a04c-1f5d163f3fe2",
   "metadata": {},
   "outputs": [
    {
     "data": {
      "text/plain": [
       "<sqlite3.Cursor at 0x297fae9a9c0>"
      ]
     },
     "execution_count": 17,
     "metadata": {},
     "output_type": "execute_result"
    }
   ],
   "source": [
    "# 1) Update a Specific Row: To update the class_section for a specific row:\n",
    "\n",
    "cursor.execute(\"UPDATE student_data2 SET class_section = 'A' WHERE roll_no = 1\")"
   ]
  },
  {
   "cell_type": "code",
   "execution_count": 18,
   "id": "cc074197-bad9-46a8-918e-00714af32298",
   "metadata": {},
   "outputs": [
    {
     "data": {
      "text/plain": [
       "<sqlite3.Cursor at 0x297fae9a9c0>"
      ]
     },
     "execution_count": 18,
     "metadata": {},
     "output_type": "execute_result"
    }
   ],
   "source": [
    "# 2) update multiple rows\n",
    "cursor.execute(\"UPDATE student_data2 SET class_section =CASE WHEN roll_no = 1 THEN 'A' WHEN roll_no = 2 THEN 'B' WHEN roll_no = 3 THEN 'C' END WHERE roll_no IN (1, 2, 3)\")"
   ]
  },
  {
   "cell_type": "code",
   "execution_count": 19,
   "id": "1e675ada-a123-4ec7-acfa-13b16254fa96",
   "metadata": {},
   "outputs": [
    {
     "data": {
      "text/plain": [
       "[(21, 'rohit', 400, 15, None),\n",
       " (2, 'ajay', 350, 20, 'B'),\n",
       " (3, 'aakash', 420, 12, 'C'),\n",
       " (4, 'akash', 410, 13, None),\n",
       " (5, 'sahil', 440, 8, None),\n",
       " (6, 'vipul', 340, 21, None),\n",
       " (7, 'nikhil', 400, 15, None),\n",
       " (8, 'abhishek', 450, 7, None),\n",
       " (9, 'ekta', 408, 14, None),\n",
       " (10, 'sachin', 460, 5, None),\n",
       " (11, 'simran', 330, 22, None),\n",
       " (12, 'nancy', 400, 15, None),\n",
       " (13, 'ayushi', 330, 22, None),\n",
       " (14, 'mohit', 480, 2, None),\n",
       " (15, 'rahul', 485, 1, None),\n",
       " (16, 'deepika', 250, 27, None),\n",
       " (17, 'deepak', 290, 24, None),\n",
       " (18, 'mohit', 395, 16, None),\n",
       " (19, 'abhisheek', 288, 24, None),\n",
       " (20, 'navdeep', 435, 9, None)]"
      ]
     },
     "execution_count": 19,
     "metadata": {},
     "output_type": "execute_result"
    }
   ],
   "source": [
    "cursor.execute(\"SELECT * FROM student_data2\")\n",
    "cursor.fetchall()"
   ]
  },
  {
   "cell_type": "code",
   "execution_count": 21,
   "id": "7da43996-d70c-4015-af13-00a835d011a3",
   "metadata": {},
   "outputs": [
    {
     "data": {
      "text/plain": [
       "<sqlite3.Cursor at 0x297fae9a9c0>"
      ]
     },
     "execution_count": 21,
     "metadata": {},
     "output_type": "execute_result"
    }
   ],
   "source": [
    "# 3) update all rows with same values\n",
    "cursor.execute(\"UPDATE student_data2 SET class_section = 'A'\")"
   ]
  },
  {
   "cell_type": "code",
   "execution_count": 22,
   "id": "51f55fad-de4f-4dc4-ba74-1035666d050e",
   "metadata": {},
   "outputs": [
    {
     "data": {
      "text/plain": [
       "[(21, 'rohit', 400, 15, 'A'),\n",
       " (2, 'ajay', 350, 20, 'A'),\n",
       " (3, 'aakash', 420, 12, 'A'),\n",
       " (4, 'akash', 410, 13, 'A'),\n",
       " (5, 'sahil', 440, 8, 'A'),\n",
       " (6, 'vipul', 340, 21, 'A'),\n",
       " (7, 'nikhil', 400, 15, 'A'),\n",
       " (8, 'abhishek', 450, 7, 'A'),\n",
       " (9, 'ekta', 408, 14, 'A'),\n",
       " (10, 'sachin', 460, 5, 'A'),\n",
       " (11, 'simran', 330, 22, 'A'),\n",
       " (12, 'nancy', 400, 15, 'A'),\n",
       " (13, 'ayushi', 330, 22, 'A'),\n",
       " (14, 'mohit', 480, 2, 'A'),\n",
       " (15, 'rahul', 485, 1, 'A'),\n",
       " (16, 'deepika', 250, 27, 'A'),\n",
       " (17, 'deepak', 290, 24, 'A'),\n",
       " (18, 'mohit', 395, 16, 'A'),\n",
       " (19, 'abhisheek', 288, 24, 'A'),\n",
       " (20, 'navdeep', 435, 9, 'A')]"
      ]
     },
     "execution_count": 22,
     "metadata": {},
     "output_type": "execute_result"
    }
   ],
   "source": [
    "cursor.execute(\"SELECT * FROM student_data2\")\n",
    "cursor.fetchall()"
   ]
  },
  {
   "cell_type": "code",
   "execution_count": 23,
   "id": "c2a5f34d-69f7-4e10-bde1-e80faa30468d",
   "metadata": {},
   "outputs": [
    {
     "data": {
      "text/plain": [
       "[(21, 'rohit', 400, 15, 'A'),\n",
       " (2, 'ajay', 350, 20, 'A'),\n",
       " (3, 'aakash', 420, 12, 'B'),\n",
       " (4, 'akash', 410, 13, 'B'),\n",
       " (5, 'sahil', 440, 8, 'B'),\n",
       " (6, 'vipul', 340, 21, 'A'),\n",
       " (7, 'nikhil', 400, 15, 'A'),\n",
       " (8, 'abhishek', 450, 7, 'B'),\n",
       " (9, 'ekta', 408, 14, 'B'),\n",
       " (10, 'sachin', 460, 5, 'B'),\n",
       " (11, 'simran', 330, 22, 'A'),\n",
       " (12, 'nancy', 400, 15, 'A'),\n",
       " (13, 'ayushi', 330, 22, 'A'),\n",
       " (14, 'mohit', 480, 2, 'B'),\n",
       " (15, 'rahul', 485, 1, 'B'),\n",
       " (16, 'deepika', 250, 27, 'A'),\n",
       " (17, 'deepak', 290, 24, 'A'),\n",
       " (18, 'mohit', 395, 16, 'A'),\n",
       " (19, 'abhisheek', 288, 24, 'A'),\n",
       " (20, 'navdeep', 435, 9, 'B')]"
      ]
     },
     "execution_count": 23,
     "metadata": {},
     "output_type": "execute_result"
    }
   ],
   "source": [
    "# 4)condition based updating\n",
    "cursor.execute(\"UPDATE student_data2 SET class_section = 'B' WHERE total_marks > 400\")\n",
    "cursor.execute(\"SELECT * FROM student_data2\")\n",
    "cursor.fetchall()"
   ]
  },
  {
   "cell_type": "markdown",
   "id": "df1abbf9-f2e7-494f-b2b7-4b900b488a71",
   "metadata": {},
   "source": [
    "# insert more data"
   ]
  },
  {
   "cell_type": "code",
   "execution_count": 62,
   "id": "32c8bba3-319e-4330-ab08-b7a3059c921b",
   "metadata": {},
   "outputs": [
    {
     "data": {
      "text/plain": [
       "<sqlite3.Cursor at 0x2c1f28f6940>"
      ]
     },
     "execution_count": 62,
     "metadata": {},
     "output_type": "execute_result"
    }
   ],
   "source": [
    "cursor.execute(\"INSERT INTO student_data(roll_no,name,total_marks,rank,class_section) values(28,'mansi',490,2,'A')\")"
   ]
  },
  {
   "cell_type": "code",
   "execution_count": 63,
   "id": "099674d7-4e6b-441c-a41a-a3191b513c00",
   "metadata": {},
   "outputs": [
    {
     "data": {
      "text/plain": [
       "[(21, 'rohit', 400, 15, 'A'),\n",
       " (2, 'sunny', 350, 20, 'A'),\n",
       " (3, 'aakash', 420, 12, 'B'),\n",
       " (4, 'akash', 410, 13, 'B'),\n",
       " (5, 'sahil', 440, 10, 'B'),\n",
       " (6, 'sunny', 340, 21, 'A'),\n",
       " (7, 'nikhil', 400, 15, 'A'),\n",
       " (8, 'abhishek', 450, 7, 'B'),\n",
       " (9, 'ekta', 408, 14, 'B'),\n",
       " (10, 'sachin', 460, 5, 'B'),\n",
       " (11, 'simran', 330, 22, 'A'),\n",
       " (12, 'nancy', 400, 15, 'A'),\n",
       " (13, 'ayushi', 330, 22, 'A'),\n",
       " (14, 'mohit', 480, 2, 'B'),\n",
       " (17, 'deepak', 290, 24, 'A'),\n",
       " (19, 'abhisheek', 288, 24, 'A'),\n",
       " (20, 'navdeep', 435, 9, 'B'),\n",
       " (26, 'sachinn', 490, 2, 'A'),\n",
       " (28, 'mansi', 490, 2, 'A')]"
      ]
     },
     "execution_count": 63,
     "metadata": {},
     "output_type": "execute_result"
    }
   ],
   "source": [
    "cursor.execute(\"SELECT * FROM student_data\")\n",
    "cursor.fetchall()"
   ]
  },
  {
   "cell_type": "markdown",
   "id": "ea9f8c1b-dcda-4e36-ad5a-ee05df2cdf37",
   "metadata": {},
   "source": [
    "# count total entries"
   ]
  },
  {
   "cell_type": "code",
   "execution_count": 64,
   "id": "c38fc518-2f43-433c-90d1-61914cd611b8",
   "metadata": {},
   "outputs": [
    {
     "data": {
      "text/plain": [
       "<sqlite3.Cursor at 0x2c1f28f6940>"
      ]
     },
     "execution_count": 64,
     "metadata": {},
     "output_type": "execute_result"
    }
   ],
   "source": [
    "cursor.execute(\"SELECT count(*) from student_data\")"
   ]
  },
  {
   "cell_type": "code",
   "execution_count": 65,
   "id": "31527058-6c7c-4db3-9bb2-572eabae9f3a",
   "metadata": {},
   "outputs": [
    {
     "data": {
      "text/plain": [
       "[(19,)]"
      ]
     },
     "execution_count": 65,
     "metadata": {},
     "output_type": "execute_result"
    }
   ],
   "source": [
    "cursor.fetchall()"
   ]
  },
  {
   "cell_type": "markdown",
   "id": "223e2d33-b406-4131-85f4-4159f7c66494",
   "metadata": {},
   "source": [
    "# aggregate functions\n",
    "1.COUNT\n",
    "\n",
    "2.SUM\n",
    "\n",
    "3.AVERAGE (AVG))\n",
    "\n",
    "4.MAXIMUM (MAX())\n",
    "\n",
    "5.MINIMUM (MIN())\n",
    "\n",
    "6.VARIANCE\n",
    "\n",
    "7.STANDARD DEVIATION (STDDEV)\n",
    "\n",
    "8.MEDIAN"
   ]
  },
  {
   "cell_type": "markdown",
   "id": "7687ce8c-86be-4ab5-b282-f24668124df8",
   "metadata": {},
   "source": [
    "## count"
   ]
  },
  {
   "cell_type": "code",
   "execution_count": 11,
   "id": "3c3f65ff-56b7-4600-b230-53911a4d908c",
   "metadata": {},
   "outputs": [
    {
     "data": {
      "text/plain": [
       "[(20,)]"
      ]
     },
     "execution_count": 11,
     "metadata": {},
     "output_type": "execute_result"
    }
   ],
   "source": [
    "cursor.execute(\"select count(*) from student_data2\")  #  Total number of rows\n",
    "cursor.fetchall()"
   ]
  },
  {
   "cell_type": "code",
   "execution_count": 12,
   "id": "5ffd9e1e-1134-4f9d-8f5d-5aabaa536ab9",
   "metadata": {},
   "outputs": [
    {
     "data": {
      "text/plain": [
       "[(20,)]"
      ]
     },
     "execution_count": 12,
     "metadata": {},
     "output_type": "execute_result"
    }
   ],
   "source": [
    "cursor.execute(\"SELECT COUNT(name) FROM student_data2\")  # Total number of non-NULL names\n",
    "cursor.fetchall()"
   ]
  },
  {
   "cell_type": "code",
   "execution_count": 13,
   "id": "a690360f-7983-4651-be20-d1f3f157192a",
   "metadata": {},
   "outputs": [
    {
     "data": {
      "text/plain": [
       "[(16,)]"
      ]
     },
     "execution_count": 13,
     "metadata": {},
     "output_type": "execute_result"
    }
   ],
   "source": [
    "cursor.execute(\"SELECT COUNT(DISTINCT rank) FROM student_data2\")  # count of unique ranks\n",
    "cursor.fetchall()"
   ]
  },
  {
   "cell_type": "markdown",
   "id": "3f662ad4-7be4-4708-a7be-24fdfa0629a7",
   "metadata": {},
   "source": [
    "## Sum"
   ]
  },
  {
   "cell_type": "code",
   "execution_count": 14,
   "id": "ee3c5f0d-93cd-463c-83e6-5159aae7e0bc",
   "metadata": {},
   "outputs": [
    {
     "data": {
      "text/plain": [
       "[(7761,)]"
      ]
     },
     "execution_count": 14,
     "metadata": {},
     "output_type": "execute_result"
    }
   ],
   "source": [
    "cursor.execute(\"SELECT SUM(total_marks) from student_data2\")\n",
    "cursor.fetchall()"
   ]
  },
  {
   "cell_type": "code",
   "execution_count": 24,
   "id": "5b50ff5a-8ca8-4daa-b42a-b693f04aee80",
   "metadata": {},
   "outputs": [
    {
     "data": {
      "text/plain": [
       "[(3773,)]"
      ]
     },
     "execution_count": 24,
     "metadata": {},
     "output_type": "execute_result"
    }
   ],
   "source": [
    "cursor.execute(\"SELECT SUM(total_marks) from student_data2 WHERE class_section = 'A'\")\n",
    "cursor.fetchall()"
   ]
  },
  {
   "cell_type": "markdown",
   "id": "4094edcf-7e47-4cfb-a87d-30d8602c02aa",
   "metadata": {},
   "source": [
    "## AVERAGE"
   ]
  },
  {
   "cell_type": "code",
   "execution_count": 25,
   "id": "2c71da12-3f3d-4c9f-aea0-c5134b79345f",
   "metadata": {},
   "outputs": [
    {
     "data": {
      "text/plain": [
       "[(388.05,)]"
      ]
     },
     "execution_count": 25,
     "metadata": {},
     "output_type": "execute_result"
    }
   ],
   "source": [
    "cursor.execute(\"SELECT AVG(total_marks) from student_data2\")\n",
    "cursor.fetchall()"
   ]
  },
  {
   "cell_type": "code",
   "execution_count": 26,
   "id": "d735b3dd-6e09-44d3-a674-bf210503dc7f",
   "metadata": {},
   "outputs": [
    {
     "data": {
      "text/plain": [
       "[(343.0,)]"
      ]
     },
     "execution_count": 26,
     "metadata": {},
     "output_type": "execute_result"
    }
   ],
   "source": [
    "cursor.execute(\"SELECT AVG(total_marks) from student_data2 WHERE class_section = 'A'\")\n",
    "cursor.fetchall()"
   ]
  },
  {
   "cell_type": "markdown",
   "id": "1d029364-2ec8-48e4-9411-56baacee7577",
   "metadata": {},
   "source": [
    "# group by"
   ]
  },
  {
   "cell_type": "markdown",
   "id": "f7e39b00-90e3-48ac-882b-f76761c43ced",
   "metadata": {},
   "source": [
    "## group by column name\n"
   ]
  },
  {
   "cell_type": "code",
   "execution_count": 27,
   "id": "b30c5773-43e8-43e4-bd41-51bb09d8e3b4",
   "metadata": {},
   "outputs": [
    {
     "data": {
      "text/plain": [
       "<sqlite3.Cursor at 0x297fae9a9c0>"
      ]
     },
     "execution_count": 27,
     "metadata": {},
     "output_type": "execute_result"
    }
   ],
   "source": [
    "# Group students by rank and count the number of students in each rank\n",
    "cursor.execute(\"SELECT rank,COUNT(*) from student_data2 GROUP BY rank\")"
   ]
  },
  {
   "cell_type": "code",
   "execution_count": 28,
   "id": "e6f93b41-fb4d-4a17-97df-3615ed294fc1",
   "metadata": {},
   "outputs": [
    {
     "data": {
      "text/plain": [
       "[(1, 1),\n",
       " (2, 1),\n",
       " (5, 1),\n",
       " (7, 1),\n",
       " (8, 1),\n",
       " (9, 1),\n",
       " (12, 1),\n",
       " (13, 1),\n",
       " (14, 1),\n",
       " (15, 3),\n",
       " (16, 1),\n",
       " (20, 1),\n",
       " (21, 1),\n",
       " (22, 2),\n",
       " (24, 2),\n",
       " (27, 1)]"
      ]
     },
     "execution_count": 28,
     "metadata": {},
     "output_type": "execute_result"
    }
   ],
   "source": [
    "cursor.fetchall()"
   ]
  },
  {
   "cell_type": "code",
   "execution_count": 29,
   "id": "1e00ec26-cf95-49f6-8cf9-c9a47a78f5ee",
   "metadata": {},
   "outputs": [
    {
     "data": {
      "text/plain": [
       "[('A', 11), ('B', 9)]"
      ]
     },
     "execution_count": 29,
     "metadata": {},
     "output_type": "execute_result"
    }
   ],
   "source": [
    "cursor.execute(\"SELECT class_section,COUNT(*) FROM student_data2 GROUP BY class_section\")\n",
    "cursor.fetchall()"
   ]
  },
  {
   "cell_type": "markdown",
   "id": "03b2f73c-13fd-4dfe-b0e6-f7e40a1b3329",
   "metadata": {},
   "source": [
    "## group by multiple columns"
   ]
  },
  {
   "cell_type": "code",
   "execution_count": 31,
   "id": "d559304e-8034-4bd4-8c56-e83435f8020e",
   "metadata": {},
   "outputs": [
    {
     "data": {
      "text/plain": [
       "[('A', 15, 11), ('B', 12, 9)]"
      ]
     },
     "execution_count": 31,
     "metadata": {},
     "output_type": "execute_result"
    }
   ],
   "source": [
    "cursor.execute(\"SELECT class_section,rank,count(*) FROM student_data2 GROUP BY class_section\")\n",
    "cursor.fetchall()"
   ]
  },
  {
   "cell_type": "code",
   "execution_count": 32,
   "id": "cb018d33-cef5-4efd-a9c9-2d019c3b1494",
   "metadata": {},
   "outputs": [
    {
     "data": {
      "text/plain": [
       "[('A', 15, 3),\n",
       " ('A', 16, 1),\n",
       " ('A', 20, 1),\n",
       " ('A', 21, 1),\n",
       " ('A', 22, 2),\n",
       " ('A', 24, 2),\n",
       " ('A', 27, 1),\n",
       " ('B', 1, 1),\n",
       " ('B', 2, 1),\n",
       " ('B', 5, 1),\n",
       " ('B', 7, 1),\n",
       " ('B', 8, 1),\n",
       " ('B', 9, 1),\n",
       " ('B', 12, 1),\n",
       " ('B', 13, 1),\n",
       " ('B', 14, 1)]"
      ]
     },
     "execution_count": 32,
     "metadata": {},
     "output_type": "execute_result"
    }
   ],
   "source": [
    "cursor.execute(\"SELECT class_section,rank,count(*) FROM student_data2 GROUP BY class_section,rank\")\n",
    "cursor.fetchall()"
   ]
  },
  {
   "cell_type": "markdown",
   "id": "544783be-9975-4f36-a388-001fad9f7b91",
   "metadata": {},
   "source": [
    "## using aggregate function in group by clause"
   ]
  },
  {
   "cell_type": "code",
   "execution_count": 35,
   "id": "45373cf7-9208-44df-abb4-9e5806378a92",
   "metadata": {},
   "outputs": [
    {
     "data": {
      "text/plain": [
       "[('A', 400.0),\n",
       " ('A', 395.0),\n",
       " ('A', 350.0),\n",
       " ('A', 340.0),\n",
       " ('A', 330.0),\n",
       " ('A', 289.0),\n",
       " ('A', 250.0),\n",
       " ('B', 485.0),\n",
       " ('B', 480.0),\n",
       " ('B', 460.0),\n",
       " ('B', 450.0),\n",
       " ('B', 440.0),\n",
       " ('B', 435.0),\n",
       " ('B', 420.0),\n",
       " ('B', 410.0),\n",
       " ('B', 408.0)]"
      ]
     },
     "execution_count": 35,
     "metadata": {},
     "output_type": "execute_result"
    }
   ],
   "source": [
    "cursor.execute(\"SELECT class_section, AVG(total_marks) as avg_marks FROM student_data2 GROUP BY class_section,rank\")\n",
    "cursor.fetchall()"
   ]
  },
  {
   "cell_type": "code",
   "execution_count": 36,
   "id": "ec2ca043-6f72-4e7e-8589-972ca93e7de9",
   "metadata": {},
   "outputs": [
    {
     "data": {
      "text/plain": [
       "[('A', 343.0), ('B', 443.1111111111111)]"
      ]
     },
     "execution_count": 36,
     "metadata": {},
     "output_type": "execute_result"
    }
   ],
   "source": [
    "cursor.execute(\"SELECT class_section, AVG(total_marks) as avg_marks FROM student_data2 GROUP BY class_section\")\n",
    "cursor.fetchall()"
   ]
  },
  {
   "cell_type": "markdown",
   "id": "3c134a00-cfee-4f30-a0c1-dfa02feb6fc9",
   "metadata": {},
   "source": [
    "## group by with order by\n"
   ]
  },
  {
   "cell_type": "code",
   "execution_count": 37,
   "id": "906ab741-d143-4b27-a9dc-123a1369494c",
   "metadata": {},
   "outputs": [
    {
     "data": {
      "text/plain": [
       "[('B', 3988), ('A', 3773)]"
      ]
     },
     "execution_count": 37,
     "metadata": {},
     "output_type": "execute_result"
    }
   ],
   "source": [
    "cursor.execute(\"SELECT class_section,SUM(total_marks) AS total_marks FROM student_data2 GROUP BY class_section ORDER BY total_marks DESC\")\n",
    "cursor.fetchall()"
   ]
  },
  {
   "cell_type": "code",
   "execution_count": 38,
   "id": "0b49841d-ff8f-42b6-898e-1268bf7eb933",
   "metadata": {},
   "outputs": [
    {
     "data": {
      "text/plain": [
       "[('A', 3773), ('B', 3988)]"
      ]
     },
     "execution_count": 38,
     "metadata": {},
     "output_type": "execute_result"
    }
   ],
   "source": [
    "cursor.execute(\"SELECT class_section,SUM(total_marks) AS total_marks FROM student_data2 GROUP BY class_section ORDER BY total_marks ASC\")\n",
    "cursor.fetchall()"
   ]
  },
  {
   "cell_type": "code",
   "execution_count": 39,
   "id": "66b5b30a-f5df-406a-9dfd-3979f6262eee",
   "metadata": {},
   "outputs": [
    {
     "data": {
      "text/plain": [
       "[('A', 15, 1200),\n",
       " ('A', 22, 660),\n",
       " ('A', 24, 578),\n",
       " ('B', 1, 485),\n",
       " ('B', 2, 480),\n",
       " ('B', 5, 460),\n",
       " ('B', 7, 450),\n",
       " ('B', 8, 440),\n",
       " ('B', 9, 435),\n",
       " ('B', 12, 420),\n",
       " ('B', 13, 410),\n",
       " ('B', 14, 408),\n",
       " ('A', 16, 395),\n",
       " ('A', 20, 350),\n",
       " ('A', 21, 340),\n",
       " ('A', 27, 250)]"
      ]
     },
     "execution_count": 39,
     "metadata": {},
     "output_type": "execute_result"
    }
   ],
   "source": [
    "cursor.execute(\"SELECT class_section,rank,SUM(total_marks) AS total_marks FROM student_data2 GROUP BY class_section,rank ORDER BY total_marks DESC\")\n",
    "cursor.fetchall()"
   ]
  },
  {
   "cell_type": "markdown",
   "id": "d440e13f-bbd1-40c2-8e1d-eaf7027e2dc1",
   "metadata": {},
   "source": [
    "## group by with subqueries"
   ]
  },
  {
   "cell_type": "code",
   "execution_count": 41,
   "id": "276051db-a689-4501-badf-a31ad27ee26c",
   "metadata": {},
   "outputs": [
    {
     "data": {
      "text/plain": [
       "[('B', 485)]"
      ]
     },
     "execution_count": 41,
     "metadata": {},
     "output_type": "execute_result"
    }
   ],
   "source": [
    "cursor.execute(\"SELECT class_section,MAX(total_marks) AS highest_marks FROM (SELECT * FROM student_data2 WHERE rank <= 10) AS top_Students GROUP BY class_section\")\n",
    "cursor.fetchall()"
   ]
  },
  {
   "cell_type": "markdown",
   "id": "6eab692e-3a50-4a2c-8eb3-7fcf1f918170",
   "metadata": {},
   "source": [
    "# Limit the Output"
   ]
  },
  {
   "cell_type": "code",
   "execution_count": 42,
   "id": "ebc0ac13-d927-49f8-b87d-6357c9909f55",
   "metadata": {},
   "outputs": [
    {
     "data": {
      "text/plain": [
       "[(15, 'rahul', 485, 1, 'B'),\n",
       " (14, 'mohit', 480, 2, 'B'),\n",
       " (10, 'sachin', 460, 5, 'B'),\n",
       " (8, 'abhishek', 450, 7, 'B'),\n",
       " (5, 'sahil', 440, 8, 'B')]"
      ]
     },
     "execution_count": 42,
     "metadata": {},
     "output_type": "execute_result"
    }
   ],
   "source": [
    "# retrive top five\n",
    "cursor.execute(\"SELECT * FROM student_data2 ORDER BY total_marks DESC LIMIT 5\")\n",
    "cursor.fetchall()"
   ]
  },
  {
   "cell_type": "code",
   "execution_count": null,
   "id": "3a30f574-e11c-4510-b157-10aee6f82579",
   "metadata": {},
   "outputs": [],
   "source": []
  }
 ],
 "metadata": {
  "kernelspec": {
   "display_name": "Python 3 (ipykernel)",
   "language": "python",
   "name": "python3"
  },
  "language_info": {
   "codemirror_mode": {
    "name": "ipython",
    "version": 3
   },
   "file_extension": ".py",
   "mimetype": "text/x-python",
   "name": "python",
   "nbconvert_exporter": "python",
   "pygments_lexer": "ipython3",
   "version": "3.11.7"
  }
 },
 "nbformat": 4,
 "nbformat_minor": 5
}
